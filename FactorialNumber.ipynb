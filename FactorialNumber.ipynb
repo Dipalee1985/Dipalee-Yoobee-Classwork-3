{
  "nbformat": 4,
  "nbformat_minor": 0,
  "metadata": {
    "colab": {
      "provenance": [],
      "authorship_tag": "ABX9TyMyha3HOl3Fwb7Y4TwN1Kpj",
      "include_colab_link": true
    },
    "kernelspec": {
      "name": "python3",
      "display_name": "Python 3"
    },
    "language_info": {
      "name": "python"
    }
  },
  "cells": [
    {
      "cell_type": "markdown",
      "metadata": {
        "id": "view-in-github",
        "colab_type": "text"
      },
      "source": [
        "<a href=\"https://colab.research.google.com/github/Dipalee1985/Dipalee-Yoobee-Classwork-3/blob/main/FactorialNumber.ipynb\" target=\"_parent\"><img src=\"https://colab.research.google.com/assets/colab-badge.svg\" alt=\"Open In Colab\"/></a>"
      ]
    },
    {
      "cell_type": "code",
      "source": [
        "def Fact(n):\n",
        "  if n==0:\n",
        "    return 1\n",
        "  else:\n",
        "    fact=1\n",
        "  for a in range(1, n+1):\n",
        "       fact*=a\n",
        "  return fact\n"
      ],
      "metadata": {
        "id": "PzSG_FlJxTpn"
      },
      "execution_count": 19,
      "outputs": []
    },
    {
      "cell_type": "code",
      "source": [
        "Fact(5)\n",
        "\n"
      ],
      "metadata": {
        "colab": {
          "base_uri": "https://localhost:8080/"
        },
        "id": "14Gwy6m9y9pW",
        "outputId": "cc74c3dc-95d9-4e22-a4ca-f9a4426eb47b"
      },
      "execution_count": 22,
      "outputs": [
        {
          "output_type": "execute_result",
          "data": {
            "text/plain": [
              "120"
            ]
          },
          "metadata": {},
          "execution_count": 22
        }
      ]
    },
    {
      "cell_type": "code",
      "source": [
        "Fact(0)\n"
      ],
      "metadata": {
        "colab": {
          "base_uri": "https://localhost:8080/"
        },
        "id": "GLKHdKnO3j4-",
        "outputId": "11b05aff-de2d-4fc0-ded3-e3fb502dfd30"
      },
      "execution_count": 23,
      "outputs": [
        {
          "output_type": "execute_result",
          "data": {
            "text/plain": [
              "1"
            ]
          },
          "metadata": {},
          "execution_count": 23
        }
      ]
    },
    {
      "cell_type": "code",
      "source": [],
      "metadata": {
        "id": "rLJ-hkXm322Y"
      },
      "execution_count": null,
      "outputs": []
    }
  ]
}